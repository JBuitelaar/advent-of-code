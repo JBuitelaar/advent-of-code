{
 "cells": [
  {
   "cell_type": "markdown",
   "metadata": {},
   "source": [
    "# Day 24\n",
    "In a notebook because there is a lot of exploration to find the answer"
   ]
  },
  {
   "cell_type": "code",
   "execution_count": 1,
   "metadata": {},
   "outputs": [
    {
     "data": {
      "text/plain": [
       "True"
      ]
     },
     "execution_count": 1,
     "metadata": {},
     "output_type": "execute_result"
    }
   ],
   "source": [
    "import time\n",
    "from collections import defaultdict, Counter\n",
    "from aocd.models import Puzzle\n",
    "from dotenv import load_dotenv\n",
    "from operator import and_, or_, xor\n",
    "from functools import cache\n",
    "\n",
    "load_dotenv()"
   ]
  },
  {
   "cell_type": "code",
   "execution_count": 2,
   "metadata": {},
   "outputs": [],
   "source": [
    "puzzle = Puzzle(2024, 24)\n",
    "data = puzzle.input_data\n",
    "\n",
    "operators = {\n",
    "    \"AND\": and_,\n",
    "    \"OR\": or_,\n",
    "    \"XOR\": xor,\n",
    "}\n",
    "\n",
    "wires_str, gates_str = data.strip().split(\"\\n\\n\")\n",
    "\n",
    "wires = {}\n",
    "for line in wires_str.split(\"\\n\"):\n",
    "    wire, val = line.split(\": \")\n",
    "    wires[wire] = bool(int(val))\n",
    "\n",
    "gates = {}\n",
    "for line in gates_str.split(\"\\n\"):\n",
    "    gate, wire = line.split(\" -> \")\n",
    "    wire1, op, wire2 = gate.split()\n",
    "    gates[wire] = (op, tuple(sorted([wire1, wire2])))\n",
    "\n",
    "z_wires = sorted([z for z in gates if z.startswith(\"z\")])\n",
    "len_z = len(z_wires)\n",
    "\n",
    "x_wires = sorted([w for w in wires if w.startswith(\"x\")])\n",
    "y_wires = sorted([w for w in wires if w.startswith(\"y\")])\n",
    "assert len(x_wires) == len(y_wires)\n",
    "assert len_z == len(x_wires) + 1"
   ]
  },
  {
   "cell_type": "markdown",
   "metadata": {},
   "source": [
    "# Part 1"
   ]
  },
  {
   "cell_type": "code",
   "execution_count": 3,
   "metadata": {},
   "outputs": [
    {
     "name": "stdout",
     "output_type": "stream",
     "text": [
      "ans1=55920211035878, timer=0.00s\n"
     ]
    }
   ],
   "source": [
    "start_time = time.time()\n",
    "\n",
    "\n",
    "@cache\n",
    "def calculate(wire):\n",
    "    if wire in wires:\n",
    "        return wires[wire]\n",
    "    op, (wire1, wire2) = gates[wire]\n",
    "    res = operators[op](calculate(wire1), calculate(wire2))\n",
    "    # print(wire, res)\n",
    "    return res\n",
    "\n",
    "\n",
    "# print(wires)\n",
    "outputs = [calculate(wire) for wire in z_wires]\n",
    "\n",
    "\n",
    "def bools_to_int(bools):\n",
    "    return sum([b << i for i, b in enumerate(bools)])\n",
    "\n",
    "\n",
    "ans1 = bools_to_int(outputs)\n",
    "\n",
    "timer = time.time() - start_time\n",
    "print(f\"{ans1=}, {timer=:.2f}s\")"
   ]
  },
  {
   "attachments": {
    "image.png": {
     "image/png": "[encoded data removed]"
    }
   },
   "cell_type": "markdown",
   "metadata": {},
   "source": [
    "# Part 2\n",
    "Binary addition can be done as follows (for z01-z44).\n",
    "\n",
    "![image.png](attachment:image.png)\n",
    "\n",
    "The first (z00) and last(z45) are different"
   ]
  },
  {
   "cell_type": "code",
   "execution_count": 4,
   "metadata": {},
   "outputs": [],
   "source": [
    "assert gates[\"z00\"] == (\"XOR\", (\"x00\", \"y00\"))\n",
    "assert gates[\"z45\"][0] == \"OR\""
   ]
  },
  {
   "cell_type": "code",
   "execution_count": 5,
   "metadata": {},
   "outputs": [],
   "source": [
    "# some helpers for easy lookup:\n",
    "gates_inv = {v: k for k, v in gates.items()}\n",
    "\n",
    "\n",
    "def get_out_wire(op, in1, in2):\n",
    "    return gates_inv[(op, tuple(sorted([in1, in2])))]\n",
    "\n",
    "\n",
    "# all wires this wire is an input to\n",
    "gates_map = defaultdict(list)\n",
    "for out, (_, (w1, w2)) in gates.items():\n",
    "    gates_map[w1].append(out)\n",
    "    gates_map[w2].append(out)\n",
    "gates_map = dict(gates_map)"
   ]
  },
  {
   "cell_type": "markdown",
   "metadata": {},
   "source": [
    "I'm not sure whether the above is the only way to create addition. I would think it's possible to do the same in a less efficient way (with more gates). Let's check if this is indeed the structure by counting the number of gates:"
   ]
  },
  {
   "cell_type": "code",
   "execution_count": 6,
   "metadata": {},
   "outputs": [
    {
     "data": {
      "text/plain": [
       "Counter({'XOR': 89, 'AND': 89, 'OR': 44})"
      ]
     },
     "execution_count": 6,
     "metadata": {},
     "output_type": "execute_result"
    }
   ],
   "source": [
    "Counter(x[0] for x in gates.values())"
   ]
  },
  {
   "cell_type": "markdown",
   "metadata": {},
   "source": [
    "That confirms that it uses the schema above: 44 * (2 XOR, 2 AND, 1 OR) + 1 XOR (z00) + 1 AND (c00, first carry).\n",
    "Note that z45 is equal to c44"
   ]
  },
  {
   "cell_type": "markdown",
   "metadata": {},
   "source": [
    "I'm also guessing that Part 1 might provide a hint as to where the problems are. Let's do the sum:"
   ]
  },
  {
   "cell_type": "code",
   "execution_count": 7,
   "metadata": {},
   "outputs": [
    {
     "name": "stdout",
     "output_type": "stream",
     "text": [
      " 110011011101111111100101100000101111011001101     28295188995789\n",
      " 110001101111111110011000111100010100000011001     27350135613465\n",
      "---------------------------------------------- +  --------------- +\n",
      "1100101001101111101111110011101000011011100110     55645324609254 <= correct solution\n",
      "1100101101101111110000010100001000011011100110     55920211035878 <= part 1 answer\n",
      ".......*.........******..****................. <= differences at *\n"
     ]
    }
   ],
   "source": [
    "def get_input(xy):\n",
    "    wire_names = [f\"{xy}{j:02}\" for j in range(len_z - 1)]\n",
    "    return bools_to_int([wires[w] for w in wire_names])\n",
    "\n",
    "\n",
    "inputs = [get_input(xy) for xy in \"xy\"]\n",
    "\n",
    "for input in inputs:\n",
    "    print(f\"{input:-46b}    {input:-15d}\")\n",
    "print(f\"{'-'*(len_z)} +  {'-'*15} +\")\n",
    "sum_val = sum(inputs)\n",
    "print(f\"{sum_val:-45b}    {sum_val:-15d} <= correct solution\")\n",
    "print(f\"{ans1:-45b}    {ans1:-15d} <= part 1 answer\")\n",
    "\n",
    "vals = [f\"{v:045b}\" for v in (sum_val, ans1)]\n",
    "error_markers = \"\".join(\".\" if a == b else \"*\" for a, b in zip(*vals))\n",
    "print(f\"{error_markers} <= differences at *\")\n",
    "\n",
    "# err_locs=[45-ix for ix,(a,b) in enumerate(zip(*vals)) if a!=b]\n",
    "# print(f\"{err_locs=}\")"
   ]
  },
  {
   "cell_type": "markdown",
   "metadata": {},
   "source": [
    "We see 3 distinct regions with errors. That doesn't help a lot (I was hoping for 4)"
   ]
  },
  {
   "cell_type": "markdown",
   "metadata": {},
   "source": [
    "In binary addition, z[j] will (only) depend on all x[i] and y[i] for i<=j. \n",
    "We can check whether that's true to get a better sense of where the swaps may be"
   ]
  },
  {
   "cell_type": "code",
   "execution_count": 8,
   "metadata": {},
   "outputs": [
    {
     "name": "stdout",
     "output_type": "stream",
     "text": [
      "incorrect deps for z30:\n",
      "* missing: ['x00', 'x01', 'x02', 'x03', 'x04', 'x05', 'x06', 'x07', 'x08', 'x09', 'x10', 'x11', 'x12', 'x13', 'x14', 'x15', 'x16', 'x17', 'x18', 'x19', 'x20', 'x21', 'x22', 'x23', 'x24', 'x25', 'x26', 'x27', 'x28', 'x29', 'y00', 'y01', 'y02', 'y03', 'y04', 'y05', 'y06', 'y07', 'y08', 'y09', 'y10', 'y11', 'y12', 'y13', 'y14', 'y15', 'y16', 'y17', 'y18', 'y19', 'y20', 'y21', 'y22', 'y23', 'y24', 'y25', 'y26', 'y27', 'y28', 'y29']\n"
     ]
    }
   ],
   "source": [
    "def find_deps(wire):\n",
    "    if wire in wires:\n",
    "        return set([wire])\n",
    "    op, (wire1, wire2) = gates[wire]\n",
    "    return find_deps(wire1) | find_deps(wire2)\n",
    "\n",
    "\n",
    "for j in range(len_z - 1):\n",
    "    z = f\"z{j:02}\"\n",
    "    deps = find_deps(z)\n",
    "    expected = set([f\"{xy}{i:02}\" for i in range(j + 1) for xy in \"xy\"])\n",
    "    if deps != expected:\n",
    "        print(f\"incorrect deps for {z}:\")\n",
    "    missing = expected - deps\n",
    "    if missing:\n",
    "        print(f\"* missing: {sorted(missing)}\")\n",
    "    spurious = deps - expected\n",
    "    if spurious:\n",
    "        print(f\"* spurious: {sorted(spurious)}\")"
   ]
  },
  {
   "cell_type": "markdown",
   "metadata": {},
   "source": [
    "So only z30 is an exception. For everything else, all the deps are ok. That means that all swaps must happen within one *group*. It also means that all the carry's are in the right order. That makes things a lot easier.\n",
    "\n",
    "z30 is a special case, as we can see:"
   ]
  },
  {
   "cell_type": "code",
   "execution_count": 9,
   "metadata": {},
   "outputs": [
    {
     "data": {
      "text/plain": [
       "('AND', ('x30', 'y30'))"
      ]
     },
     "execution_count": 9,
     "metadata": {},
     "output_type": "execute_result"
    }
   ],
   "source": [
    "gates[\"z30\"]"
   ]
  },
  {
   "cell_type": "markdown",
   "metadata": {},
   "source": [
    "We found our first element to swap! Since every z should come out of an OR gate, we can look for similar ones:"
   ]
  },
  {
   "cell_type": "code",
   "execution_count": 10,
   "metadata": {},
   "outputs": [
    {
     "data": {
      "text/plain": [
       "['z23', 'z17', 'z30']"
      ]
     },
     "execution_count": 10,
     "metadata": {},
     "output_type": "execute_result"
    }
   ],
   "source": [
    "wrong_z = [\n",
    "    out\n",
    "    for out, (op, _) in gates.items()\n",
    "    if out.startswith(\"z\") and op != \"XOR\" and out != \"z45\"\n",
    "]\n",
    "wrong_z"
   ]
  },
  {
   "cell_type": "markdown",
   "metadata": {},
   "source": [
    "These 3 need to be swapped with a XOR gate.\n",
    "Since it's all within the same group, we can simply go up 2 XOR gates from x[i],y[i] "
   ]
  },
  {
   "cell_type": "code",
   "execution_count": 11,
   "metadata": {},
   "outputs": [
    {
     "data": {
      "text/plain": [
       "['rmj', 'cmv', 'rdg']"
      ]
     },
     "execution_count": 11,
     "metadata": {},
     "output_type": "execute_result"
    }
   ],
   "source": [
    "def replacement(z):\n",
    "    num_str = z[1:]\n",
    "    x, y = (xy + num_str for xy in \"xy\")\n",
    "    xor_out = get_out_wire(\"XOR\", x, y)\n",
    "    result_gates = gates_map[xor_out]\n",
    "    return next(g for g in result_gates if gates[g][0] == \"XOR\")\n",
    "\n",
    "\n",
    "replacements_z = [replacement(z) for z in wrong_z]\n",
    "res = wrong_z + replacements_z\n",
    "replacements_z"
   ]
  },
  {
   "cell_type": "markdown",
   "metadata": {},
   "source": [
    "6 down, 2 to go. Let's try some more things to find a wrong gate. \n",
    "Let's see if the number of gates that uses the result is correct "
   ]
  },
  {
   "cell_type": "code",
   "execution_count": 12,
   "metadata": {},
   "outputs": [
    {
     "data": {
      "text/plain": [
       "['mwp', 'btb']"
      ]
     },
     "execution_count": 12,
     "metadata": {},
     "output_type": "execute_result"
    }
   ],
   "source": [
    "to_swap = []\n",
    "\n",
    "expected_lens = {\n",
    "    \"AND\": 1,  # both only used in 1 OR gate\n",
    "    \"XOR\": 2,  # not true for the XOR gate that produces z, but that one we ignore anyway\n",
    "    \"OR\": 2,  # except for the last one, but that's ignored because it produces z45\n",
    "}\n",
    "for gate, (op, (in1, in2)) in gates.items():\n",
    "    if gate in res:\n",
    "        continue\n",
    "    if gate.startswith(\"z\"):\n",
    "        continue\n",
    "    if in1 == \"x00\":\n",
    "        continue\n",
    "\n",
    "    expected_len = expected_lens[op]\n",
    "    out_gates = gates_map[gate]\n",
    "    if len(out_gates) != expected_len:\n",
    "        to_swap.append(gate)\n",
    "\n",
    "res += to_swap\n",
    "to_swap"
   ]
  },
  {
   "cell_type": "markdown",
   "metadata": {},
   "source": [
    "Found them all!"
   ]
  },
  {
   "cell_type": "code",
   "execution_count": 13,
   "metadata": {},
   "outputs": [
    {
     "name": "stdout",
     "output_type": "stream",
     "text": [
      "ans2='btb,cmv,mwp,rdg,rmj,z17,z23,z30', timer=0.24s\n"
     ]
    }
   ],
   "source": [
    "ans2 = \",\".join(sorted(res))\n",
    "timer = time.time() - start_time\n",
    "print(f\"{ans2=}, {timer=:.2f}s\")"
   ]
  },
  {
   "cell_type": "markdown",
   "metadata": {},
   "source": [
    "# Check\n",
    "we can perform all the swaps and check that the gates are all as expected.\n",
    "\n",
    "I used this to locate some of the wrong gates"
   ]
  },
  {
   "cell_type": "code",
   "execution_count": 14,
   "metadata": {},
   "outputs": [],
   "source": [
    "gates2 = gates.copy()\n",
    "\n",
    "\n",
    "def swap(g1, g2):\n",
    "    gates2[g1], gates2[g2] = gates2[g2], gates2[g1]\n",
    "\n",
    "\n",
    "for g1, g2 in zip(wrong_z, replacements_z):\n",
    "    swap(g1, g2)\n",
    "swap(*to_swap)\n",
    "\n",
    "gates_inv2 = {v: k for k, v in gates2.items()}\n",
    "\n",
    "\n",
    "def get_out_wire2(op, in1, in2):\n",
    "    return gates_inv2[(op, tuple(sorted([in1, in2])))]\n",
    "\n",
    "\n",
    "carry = get_out_wire2(\"AND\", \"x00\", \"y00\")\n",
    "\n",
    "for j in range(1, 45):\n",
    "    x, y, z = (f\"{w}{j:02}\" for w in \"xyz\")\n",
    "    and_out = get_out_wire2(\"AND\", x, y)\n",
    "    xor_out = get_out_wire2(\"XOR\", x, y)\n",
    "    and2_out = get_out_wire2(\"AND\", carry, xor_out)\n",
    "    xor2_out = get_out_wire2(\"XOR\", xor_out, carry)\n",
    "    assert xor2_out == z\n",
    "    carry = get_out_wire2(\"OR\", and_out, and2_out)\n",
    "\n",
    "assert carry == \"z45\""
   ]
  }
 ],
 "metadata": {
  "kernelspec": {
   "display_name": ".venv",
   "language": "python",
   "name": "python3"
  },
  "language_info": {
   "codemirror_mode": {
    "name": "ipython",
    "version": 3
   },
   "file_extension": ".py",
   "mimetype": "text/x-python",
   "name": "python",
   "nbconvert_exporter": "python",
   "pygments_lexer": "ipython3",
   "version": "3.12.3"
  }
 },
 "nbformat": 4,
 "nbformat_minor": 2
}
